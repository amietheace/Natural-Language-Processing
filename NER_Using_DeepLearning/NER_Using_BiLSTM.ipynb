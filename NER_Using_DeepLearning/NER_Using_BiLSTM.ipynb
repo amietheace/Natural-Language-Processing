{
  "nbformat": 4,
  "nbformat_minor": 0,
  "metadata": {
    "colab": {
      "name": "NER_Using_BiLSTM.ipynb",
      "version": "0.3.2",
      "provenance": []
    },
    "kernelspec": {
      "name": "python3",
      "display_name": "Python 3"
    },
    "accelerator": "GPU"
  },
  "cells": [
    {
      "cell_type": "markdown",
      "metadata": {
        "id": "i9NYerIhamU5",
        "colab_type": "text"
      },
      "source": [
        "For using the data from my drive to colab run this code first and go to the link which will appear, allow access and copy the code and paste in this so that you will be able to retreive the data."
      ]
    },
    {
      "cell_type": "code",
      "metadata": {
        "id": "Es8T0hRvaVLt",
        "colab_type": "code",
        "colab": {
          "base_uri": "https://localhost:8080/",
          "height": 54
        },
        "outputId": "0b2c2313-2b84-4eaf-dd51-08f3be4644b0"
      },
      "source": [
        "# Install the PyDrive wrapper & import libraries.\n",
        "# This only needs to be done once per notebook.\n",
        "!pip install -U -q PyDrive\n",
        "from pydrive.auth import GoogleAuth\n",
        "from pydrive.drive import GoogleDrive\n",
        "from google.colab import auth\n",
        "from oauth2client.client import GoogleCredentials\n",
        "\n",
        "# Authenticate and create the PyDrive client.\n",
        "# This only needs to be done once per notebook.\n",
        "auth.authenticate_user()\n",
        "gauth = GoogleAuth()\n",
        "gauth.credentials = GoogleCredentials.get_application_default()\n",
        "drive = GoogleDrive(gauth)"
      ],
      "execution_count": 1,
      "outputs": [
        {
          "output_type": "stream",
          "text": [
            "\u001b[?25l\r\u001b[K     |▎                               | 10kB 17.1MB/s eta 0:00:01\r\u001b[K     |▋                               | 20kB 1.7MB/s eta 0:00:01\r\u001b[K     |█                               | 30kB 2.6MB/s eta 0:00:01\r\u001b[K     |█▎                              | 40kB 1.7MB/s eta 0:00:01\r\u001b[K     |█▋                              | 51kB 2.1MB/s eta 0:00:01\r\u001b[K     |██                              | 61kB 2.4MB/s eta 0:00:01\r\u001b[K     |██▎                             | 71kB 2.8MB/s eta 0:00:01\r\u001b[K     |██▋                             | 81kB 3.2MB/s eta 0:00:01\r\u001b[K     |███                             | 92kB 3.6MB/s eta 0:00:01\r\u001b[K     |███▎                            | 102kB 2.7MB/s eta 0:00:01\r\u001b[K     |███▋                            | 112kB 2.7MB/s eta 0:00:01\r\u001b[K     |████                            | 122kB 2.7MB/s eta 0:00:01\r\u001b[K     |████▎                           | 133kB 2.7MB/s eta 0:00:01\r\u001b[K     |████▋                           | 143kB 2.7MB/s eta 0:00:01\r\u001b[K     |█████                           | 153kB 2.7MB/s eta 0:00:01\r\u001b[K     |█████▎                          | 163kB 2.7MB/s eta 0:00:01\r\u001b[K     |█████▋                          | 174kB 2.7MB/s eta 0:00:01\r\u001b[K     |██████                          | 184kB 2.7MB/s eta 0:00:01\r\u001b[K     |██████▎                         | 194kB 2.7MB/s eta 0:00:01\r\u001b[K     |██████▋                         | 204kB 2.7MB/s eta 0:00:01\r\u001b[K     |███████                         | 215kB 2.7MB/s eta 0:00:01\r\u001b[K     |███████▎                        | 225kB 2.7MB/s eta 0:00:01\r\u001b[K     |███████▋                        | 235kB 2.7MB/s eta 0:00:01\r\u001b[K     |████████                        | 245kB 2.7MB/s eta 0:00:01\r\u001b[K     |████████▎                       | 256kB 2.7MB/s eta 0:00:01\r\u001b[K     |████████▋                       | 266kB 2.7MB/s eta 0:00:01\r\u001b[K     |█████████                       | 276kB 2.7MB/s eta 0:00:01\r\u001b[K     |█████████▎                      | 286kB 2.7MB/s eta 0:00:01\r\u001b[K     |█████████▋                      | 296kB 2.7MB/s eta 0:00:01\r\u001b[K     |██████████                      | 307kB 2.7MB/s eta 0:00:01\r\u001b[K     |██████████▎                     | 317kB 2.7MB/s eta 0:00:01\r\u001b[K     |██████████▋                     | 327kB 2.7MB/s eta 0:00:01\r\u001b[K     |███████████                     | 337kB 2.7MB/s eta 0:00:01\r\u001b[K     |███████████▎                    | 348kB 2.7MB/s eta 0:00:01\r\u001b[K     |███████████▋                    | 358kB 2.7MB/s eta 0:00:01\r\u001b[K     |████████████                    | 368kB 2.7MB/s eta 0:00:01\r\u001b[K     |████████████▎                   | 378kB 2.7MB/s eta 0:00:01\r\u001b[K     |████████████▋                   | 389kB 2.7MB/s eta 0:00:01\r\u001b[K     |█████████████                   | 399kB 2.7MB/s eta 0:00:01\r\u001b[K     |█████████████▎                  | 409kB 2.7MB/s eta 0:00:01\r\u001b[K     |█████████████▋                  | 419kB 2.7MB/s eta 0:00:01\r\u001b[K     |██████████████                  | 430kB 2.7MB/s eta 0:00:01\r\u001b[K     |██████████████▎                 | 440kB 2.7MB/s eta 0:00:01\r\u001b[K     |██████████████▋                 | 450kB 2.7MB/s eta 0:00:01\r\u001b[K     |███████████████                 | 460kB 2.7MB/s eta 0:00:01\r\u001b[K     |███████████████▎                | 471kB 2.7MB/s eta 0:00:01\r\u001b[K     |███████████████▋                | 481kB 2.7MB/s eta 0:00:01\r\u001b[K     |████████████████                | 491kB 2.7MB/s eta 0:00:01\r\u001b[K     |████████████████▎               | 501kB 2.7MB/s eta 0:00:01\r\u001b[K     |████████████████▋               | 512kB 2.7MB/s eta 0:00:01\r\u001b[K     |█████████████████               | 522kB 2.7MB/s eta 0:00:01\r\u001b[K     |█████████████████▎              | 532kB 2.7MB/s eta 0:00:01\r\u001b[K     |█████████████████▋              | 542kB 2.7MB/s eta 0:00:01\r\u001b[K     |██████████████████              | 552kB 2.7MB/s eta 0:00:01\r\u001b[K     |██████████████████▎             | 563kB 2.7MB/s eta 0:00:01\r\u001b[K     |██████████████████▋             | 573kB 2.7MB/s eta 0:00:01\r\u001b[K     |███████████████████             | 583kB 2.7MB/s eta 0:00:01\r\u001b[K     |███████████████████▎            | 593kB 2.7MB/s eta 0:00:01\r\u001b[K     |███████████████████▋            | 604kB 2.7MB/s eta 0:00:01\r\u001b[K     |████████████████████            | 614kB 2.7MB/s eta 0:00:01\r\u001b[K     |████████████████████▎           | 624kB 2.7MB/s eta 0:00:01\r\u001b[K     |████████████████████▋           | 634kB 2.7MB/s eta 0:00:01\r\u001b[K     |█████████████████████           | 645kB 2.7MB/s eta 0:00:01\r\u001b[K     |█████████████████████▎          | 655kB 2.7MB/s eta 0:00:01\r\u001b[K     |█████████████████████▋          | 665kB 2.7MB/s eta 0:00:01\r\u001b[K     |██████████████████████          | 675kB 2.7MB/s eta 0:00:01\r\u001b[K     |██████████████████████▎         | 686kB 2.7MB/s eta 0:00:01\r\u001b[K     |██████████████████████▋         | 696kB 2.7MB/s eta 0:00:01\r\u001b[K     |███████████████████████         | 706kB 2.7MB/s eta 0:00:01\r\u001b[K     |███████████████████████▎        | 716kB 2.7MB/s eta 0:00:01\r\u001b[K     |███████████████████████▋        | 727kB 2.7MB/s eta 0:00:01\r\u001b[K     |████████████████████████        | 737kB 2.7MB/s eta 0:00:01\r\u001b[K     |████████████████████████▎       | 747kB 2.7MB/s eta 0:00:01\r\u001b[K     |████████████████████████▋       | 757kB 2.7MB/s eta 0:00:01\r\u001b[K     |████████████████████████▉       | 768kB 2.7MB/s eta 0:00:01\r\u001b[K     |█████████████████████████▏      | 778kB 2.7MB/s eta 0:00:01\r\u001b[K     |█████████████████████████▌      | 788kB 2.7MB/s eta 0:00:01\r\u001b[K     |█████████████████████████▉      | 798kB 2.7MB/s eta 0:00:01\r\u001b[K     |██████████████████████████▏     | 808kB 2.7MB/s eta 0:00:01\r\u001b[K     |██████████████████████████▌     | 819kB 2.7MB/s eta 0:00:01\r\u001b[K     |██████████████████████████▉     | 829kB 2.7MB/s eta 0:00:01\r\u001b[K     |███████████████████████████▏    | 839kB 2.7MB/s eta 0:00:01\r\u001b[K     |███████████████████████████▌    | 849kB 2.7MB/s eta 0:00:01\r\u001b[K     |███████████████████████████▉    | 860kB 2.7MB/s eta 0:00:01\r\u001b[K     |████████████████████████████▏   | 870kB 2.7MB/s eta 0:00:01\r\u001b[K     |████████████████████████████▌   | 880kB 2.7MB/s eta 0:00:01\r\u001b[K     |████████████████████████████▉   | 890kB 2.7MB/s eta 0:00:01\r\u001b[K     |█████████████████████████████▏  | 901kB 2.7MB/s eta 0:00:01\r\u001b[K     |█████████████████████████████▌  | 911kB 2.7MB/s eta 0:00:01\r\u001b[K     |█████████████████████████████▉  | 921kB 2.7MB/s eta 0:00:01\r\u001b[K     |██████████████████████████████▏ | 931kB 2.7MB/s eta 0:00:01\r\u001b[K     |██████████████████████████████▌ | 942kB 2.7MB/s eta 0:00:01\r\u001b[K     |██████████████████████████████▉ | 952kB 2.7MB/s eta 0:00:01\r\u001b[K     |███████████████████████████████▏| 962kB 2.7MB/s eta 0:00:01\r\u001b[K     |███████████████████████████████▌| 972kB 2.7MB/s eta 0:00:01\r\u001b[K     |███████████████████████████████▉| 983kB 2.7MB/s eta 0:00:01\r\u001b[K     |████████████████████████████████| 993kB 2.7MB/s \n",
            "\u001b[?25h  Building wheel for PyDrive (setup.py) ... \u001b[?25l\u001b[?25hdone\n"
          ],
          "name": "stdout"
        }
      ]
    },
    {
      "cell_type": "code",
      "metadata": {
        "id": "tdNHWMiqar0P",
        "colab_type": "code",
        "colab": {
          "base_uri": "https://localhost:8080/",
          "height": 35
        },
        "outputId": "acce0de7-a9b2-4a50-b65e-476f099de7ac"
      },
      "source": [
        "link = 'https://drive.google.com/open?id=1RL4UDH-FHzVA6lT2vu9SlxqDg2x9vrD2'\n",
        "fluff, id = link.split('=')\n",
        "print (id) # Verify that you have everything after '='"
      ],
      "execution_count": 2,
      "outputs": [
        {
          "output_type": "stream",
          "text": [
            "1RL4UDH-FHzVA6lT2vu9SlxqDg2x9vrD2\n"
          ],
          "name": "stdout"
        }
      ]
    },
    {
      "cell_type": "code",
      "metadata": {
        "id": "Fk9gziyUct5q",
        "colab_type": "code",
        "colab": {}
      },
      "source": [
        "downloaded = drive.CreateFile({'id':id}) \n",
        "downloaded.GetContentFile('ner.csv')  "
      ],
      "execution_count": 0,
      "outputs": []
    },
    {
      "cell_type": "markdown",
      "metadata": {
        "id": "Wq99Cc-HsSCj",
        "colab_type": "text"
      },
      "source": [
        "Now our data have been loaded in colab for use. \n"
      ]
    },
    {
      "cell_type": "markdown",
      "metadata": {
        "id": "mURLHCE3sZd8",
        "colab_type": "text"
      },
      "source": [
        "## Import required library and functions"
      ]
    },
    {
      "cell_type": "code",
      "metadata": {
        "id": "XjJCIz2jc40v",
        "colab_type": "code",
        "colab": {
          "base_uri": "https://localhost:8080/",
          "height": 35
        },
        "outputId": "c74d923d-ef74-4765-a757-a104af22a95e"
      },
      "source": [
        "import numpy as np \n",
        "import pandas as pd\n",
        "\n",
        "\n",
        "import keras\n",
        "from keras.models import Sequential, Input, Model\n",
        "from keras.layers import Embedding, LSTM, Dense, Bidirectional, Dropout, TimeDistributed, Flatten\n",
        "from keras.preprocessing.sequence import pad_sequences\n"
      ],
      "execution_count": 4,
      "outputs": [
        {
          "output_type": "stream",
          "text": [
            "Using TensorFlow backend.\n"
          ],
          "name": "stderr"
        }
      ]
    },
    {
      "cell_type": "markdown",
      "metadata": {
        "id": "Q9_0Sydwsll6",
        "colab_type": "text"
      },
      "source": [
        "## Take a look at dataset"
      ]
    },
    {
      "cell_type": "code",
      "metadata": {
        "id": "b3bQci0CdOlm",
        "colab_type": "code",
        "colab": {
          "base_uri": "https://localhost:8080/",
          "height": 271
        },
        "outputId": "6cb46642-0434-4367-a8ff-8678779c2e70"
      },
      "source": [
        "df = pd.read_csv(\"ner.csv\", encoding = \"ISO-8859-1\", error_bad_lines=False)\n",
        "df.head()"
      ],
      "execution_count": 5,
      "outputs": [
        {
          "output_type": "stream",
          "text": [
            "b'Skipping line 281837: expected 25 fields, saw 34\\n'\n"
          ],
          "name": "stderr"
        },
        {
          "output_type": "execute_result",
          "data": {
            "text/html": [
              "<div>\n",
              "<style scoped>\n",
              "    .dataframe tbody tr th:only-of-type {\n",
              "        vertical-align: middle;\n",
              "    }\n",
              "\n",
              "    .dataframe tbody tr th {\n",
              "        vertical-align: top;\n",
              "    }\n",
              "\n",
              "    .dataframe thead th {\n",
              "        text-align: right;\n",
              "    }\n",
              "</style>\n",
              "<table border=\"1\" class=\"dataframe\">\n",
              "  <thead>\n",
              "    <tr style=\"text-align: right;\">\n",
              "      <th></th>\n",
              "      <th>Unnamed: 0</th>\n",
              "      <th>lemma</th>\n",
              "      <th>next-lemma</th>\n",
              "      <th>next-next-lemma</th>\n",
              "      <th>next-next-pos</th>\n",
              "      <th>next-next-shape</th>\n",
              "      <th>next-next-word</th>\n",
              "      <th>next-pos</th>\n",
              "      <th>next-shape</th>\n",
              "      <th>next-word</th>\n",
              "      <th>pos</th>\n",
              "      <th>prev-iob</th>\n",
              "      <th>prev-lemma</th>\n",
              "      <th>prev-pos</th>\n",
              "      <th>prev-prev-iob</th>\n",
              "      <th>prev-prev-lemma</th>\n",
              "      <th>prev-prev-pos</th>\n",
              "      <th>prev-prev-shape</th>\n",
              "      <th>prev-prev-word</th>\n",
              "      <th>prev-shape</th>\n",
              "      <th>prev-word</th>\n",
              "      <th>sentence_idx</th>\n",
              "      <th>shape</th>\n",
              "      <th>word</th>\n",
              "      <th>tag</th>\n",
              "    </tr>\n",
              "  </thead>\n",
              "  <tbody>\n",
              "    <tr>\n",
              "      <th>0</th>\n",
              "      <td>0</td>\n",
              "      <td>thousand</td>\n",
              "      <td>of</td>\n",
              "      <td>demonstr</td>\n",
              "      <td>NNS</td>\n",
              "      <td>lowercase</td>\n",
              "      <td>demonstrators</td>\n",
              "      <td>IN</td>\n",
              "      <td>lowercase</td>\n",
              "      <td>of</td>\n",
              "      <td>NNS</td>\n",
              "      <td>__START1__</td>\n",
              "      <td>__start1__</td>\n",
              "      <td>__START1__</td>\n",
              "      <td>__START2__</td>\n",
              "      <td>__start2__</td>\n",
              "      <td>__START2__</td>\n",
              "      <td>wildcard</td>\n",
              "      <td>__START2__</td>\n",
              "      <td>wildcard</td>\n",
              "      <td>__START1__</td>\n",
              "      <td>1.0</td>\n",
              "      <td>capitalized</td>\n",
              "      <td>Thousands</td>\n",
              "      <td>O</td>\n",
              "    </tr>\n",
              "    <tr>\n",
              "      <th>1</th>\n",
              "      <td>1</td>\n",
              "      <td>of</td>\n",
              "      <td>demonstr</td>\n",
              "      <td>have</td>\n",
              "      <td>VBP</td>\n",
              "      <td>lowercase</td>\n",
              "      <td>have</td>\n",
              "      <td>NNS</td>\n",
              "      <td>lowercase</td>\n",
              "      <td>demonstrators</td>\n",
              "      <td>IN</td>\n",
              "      <td>O</td>\n",
              "      <td>thousand</td>\n",
              "      <td>NNS</td>\n",
              "      <td>__START1__</td>\n",
              "      <td>__start1__</td>\n",
              "      <td>__START1__</td>\n",
              "      <td>wildcard</td>\n",
              "      <td>__START1__</td>\n",
              "      <td>capitalized</td>\n",
              "      <td>Thousands</td>\n",
              "      <td>1.0</td>\n",
              "      <td>lowercase</td>\n",
              "      <td>of</td>\n",
              "      <td>O</td>\n",
              "    </tr>\n",
              "    <tr>\n",
              "      <th>2</th>\n",
              "      <td>2</td>\n",
              "      <td>demonstr</td>\n",
              "      <td>have</td>\n",
              "      <td>march</td>\n",
              "      <td>VBN</td>\n",
              "      <td>lowercase</td>\n",
              "      <td>marched</td>\n",
              "      <td>VBP</td>\n",
              "      <td>lowercase</td>\n",
              "      <td>have</td>\n",
              "      <td>NNS</td>\n",
              "      <td>O</td>\n",
              "      <td>of</td>\n",
              "      <td>IN</td>\n",
              "      <td>O</td>\n",
              "      <td>thousand</td>\n",
              "      <td>NNS</td>\n",
              "      <td>capitalized</td>\n",
              "      <td>Thousands</td>\n",
              "      <td>lowercase</td>\n",
              "      <td>of</td>\n",
              "      <td>1.0</td>\n",
              "      <td>lowercase</td>\n",
              "      <td>demonstrators</td>\n",
              "      <td>O</td>\n",
              "    </tr>\n",
              "    <tr>\n",
              "      <th>3</th>\n",
              "      <td>3</td>\n",
              "      <td>have</td>\n",
              "      <td>march</td>\n",
              "      <td>through</td>\n",
              "      <td>IN</td>\n",
              "      <td>lowercase</td>\n",
              "      <td>through</td>\n",
              "      <td>VBN</td>\n",
              "      <td>lowercase</td>\n",
              "      <td>marched</td>\n",
              "      <td>VBP</td>\n",
              "      <td>O</td>\n",
              "      <td>demonstr</td>\n",
              "      <td>NNS</td>\n",
              "      <td>O</td>\n",
              "      <td>of</td>\n",
              "      <td>IN</td>\n",
              "      <td>lowercase</td>\n",
              "      <td>of</td>\n",
              "      <td>lowercase</td>\n",
              "      <td>demonstrators</td>\n",
              "      <td>1.0</td>\n",
              "      <td>lowercase</td>\n",
              "      <td>have</td>\n",
              "      <td>O</td>\n",
              "    </tr>\n",
              "    <tr>\n",
              "      <th>4</th>\n",
              "      <td>4</td>\n",
              "      <td>march</td>\n",
              "      <td>through</td>\n",
              "      <td>london</td>\n",
              "      <td>NNP</td>\n",
              "      <td>capitalized</td>\n",
              "      <td>London</td>\n",
              "      <td>IN</td>\n",
              "      <td>lowercase</td>\n",
              "      <td>through</td>\n",
              "      <td>VBN</td>\n",
              "      <td>O</td>\n",
              "      <td>have</td>\n",
              "      <td>VBP</td>\n",
              "      <td>O</td>\n",
              "      <td>demonstr</td>\n",
              "      <td>NNS</td>\n",
              "      <td>lowercase</td>\n",
              "      <td>demonstrators</td>\n",
              "      <td>lowercase</td>\n",
              "      <td>have</td>\n",
              "      <td>1.0</td>\n",
              "      <td>lowercase</td>\n",
              "      <td>marched</td>\n",
              "      <td>O</td>\n",
              "    </tr>\n",
              "  </tbody>\n",
              "</table>\n",
              "</div>"
            ],
            "text/plain": [
              "   Unnamed: 0     lemma next-lemma  ...        shape           word tag\n",
              "0           0  thousand         of  ...  capitalized      Thousands   O\n",
              "1           1        of   demonstr  ...    lowercase             of   O\n",
              "2           2  demonstr       have  ...    lowercase  demonstrators   O\n",
              "3           3      have      march  ...    lowercase           have   O\n",
              "4           4     march    through  ...    lowercase        marched   O\n",
              "\n",
              "[5 rows x 25 columns]"
            ]
          },
          "metadata": {
            "tags": []
          },
          "execution_count": 5
        }
      ]
    },
    {
      "cell_type": "markdown",
      "metadata": {
        "id": "y3mAgse8srim",
        "colab_type": "text"
      },
      "source": [
        "## For converting dataset into required form"
      ]
    },
    {
      "cell_type": "code",
      "metadata": {
        "id": "7cYYjA7-db39",
        "colab_type": "code",
        "colab": {
          "base_uri": "https://localhost:8080/",
          "height": 198
        },
        "outputId": "c9bfe30b-1e83-46b0-a7ce-071215ec52d0"
      },
      "source": [
        "dataset=df.drop(['Unnamed: 0', 'lemma', 'next-lemma', 'next-next-lemma', 'next-next-pos',\n",
        "       'next-next-shape', 'next-next-word', 'next-pos', 'next-shape',\n",
        "       'next-word', 'prev-iob', 'prev-lemma', 'prev-pos',\n",
        "       'prev-prev-iob', 'prev-prev-lemma', 'prev-prev-pos', 'prev-prev-shape',\n",
        "       'prev-prev-word', 'prev-shape', 'prev-word','shape'],axis=1)\n",
        "dataset.head()"
      ],
      "execution_count": 6,
      "outputs": [
        {
          "output_type": "execute_result",
          "data": {
            "text/html": [
              "<div>\n",
              "<style scoped>\n",
              "    .dataframe tbody tr th:only-of-type {\n",
              "        vertical-align: middle;\n",
              "    }\n",
              "\n",
              "    .dataframe tbody tr th {\n",
              "        vertical-align: top;\n",
              "    }\n",
              "\n",
              "    .dataframe thead th {\n",
              "        text-align: right;\n",
              "    }\n",
              "</style>\n",
              "<table border=\"1\" class=\"dataframe\">\n",
              "  <thead>\n",
              "    <tr style=\"text-align: right;\">\n",
              "      <th></th>\n",
              "      <th>pos</th>\n",
              "      <th>sentence_idx</th>\n",
              "      <th>word</th>\n",
              "      <th>tag</th>\n",
              "    </tr>\n",
              "  </thead>\n",
              "  <tbody>\n",
              "    <tr>\n",
              "      <th>0</th>\n",
              "      <td>NNS</td>\n",
              "      <td>1.0</td>\n",
              "      <td>Thousands</td>\n",
              "      <td>O</td>\n",
              "    </tr>\n",
              "    <tr>\n",
              "      <th>1</th>\n",
              "      <td>IN</td>\n",
              "      <td>1.0</td>\n",
              "      <td>of</td>\n",
              "      <td>O</td>\n",
              "    </tr>\n",
              "    <tr>\n",
              "      <th>2</th>\n",
              "      <td>NNS</td>\n",
              "      <td>1.0</td>\n",
              "      <td>demonstrators</td>\n",
              "      <td>O</td>\n",
              "    </tr>\n",
              "    <tr>\n",
              "      <th>3</th>\n",
              "      <td>VBP</td>\n",
              "      <td>1.0</td>\n",
              "      <td>have</td>\n",
              "      <td>O</td>\n",
              "    </tr>\n",
              "    <tr>\n",
              "      <th>4</th>\n",
              "      <td>VBN</td>\n",
              "      <td>1.0</td>\n",
              "      <td>marched</td>\n",
              "      <td>O</td>\n",
              "    </tr>\n",
              "  </tbody>\n",
              "</table>\n",
              "</div>"
            ],
            "text/plain": [
              "   pos  sentence_idx           word tag\n",
              "0  NNS           1.0      Thousands   O\n",
              "1   IN           1.0             of   O\n",
              "2  NNS           1.0  demonstrators   O\n",
              "3  VBP           1.0           have   O\n",
              "4  VBN           1.0        marched   O"
            ]
          },
          "metadata": {
            "tags": []
          },
          "execution_count": 6
        }
      ]
    },
    {
      "cell_type": "markdown",
      "metadata": {
        "id": "0pkz0hXCtDEB",
        "colab_type": "text"
      },
      "source": [
        "## For getting word and tags for training"
      ]
    },
    {
      "cell_type": "code",
      "metadata": {
        "id": "xgOxCGjtdtIR",
        "colab_type": "code",
        "colab": {}
      },
      "source": [
        "class SentenceGetter(object):\n",
        "    \n",
        "    def __init__(self, dataset):\n",
        "        self.n_sent = 1\n",
        "        self.dataset = dataset\n",
        "        self.empty = False\n",
        "        agg_func = lambda s: [(w, t) for w,t in zip(s[\"word\"].values.tolist(), s[\"tag\"].values.tolist())]\n",
        "        self.grouped = self.dataset.groupby(\"sentence_idx\").apply(agg_func)\n",
        "        self.sentences = [s for s in self.grouped]\n",
        "    \n",
        "    def get_next(self):\n",
        "        try:\n",
        "            s = self.grouped[\"Sentence: {}\".format(self.n_sent)]\n",
        "            self.n_sent += 1\n",
        "            return s\n",
        "        except:\n",
        "            return None"
      ],
      "execution_count": 0,
      "outputs": []
    },
    {
      "cell_type": "code",
      "metadata": {
        "id": "zZtvcO1Nd9tO",
        "colab_type": "code",
        "colab": {
          "base_uri": "https://localhost:8080/",
          "height": 1000
        },
        "outputId": "1ea2a03e-b105-4a05-95e8-908295dd2526"
      },
      "source": [
        "getter = SentenceGetter(dataset)\n",
        "sentences = getter.sentences\n",
        "sentences[1]"
      ],
      "execution_count": 8,
      "outputs": [
        {
          "output_type": "execute_result",
          "data": {
            "text/plain": [
              "[('Families', 'O'),\n",
              " ('of', 'O'),\n",
              " ('soldiers', 'O'),\n",
              " ('killed', 'O'),\n",
              " ('in', 'O'),\n",
              " ('the', 'O'),\n",
              " ('conflict', 'O'),\n",
              " ('joined', 'O'),\n",
              " ('the', 'O'),\n",
              " ('protesters', 'O'),\n",
              " ('who', 'O'),\n",
              " ('carried', 'O'),\n",
              " ('banners', 'O'),\n",
              " ('with', 'O'),\n",
              " ('such', 'O'),\n",
              " ('slogans', 'O'),\n",
              " ('as', 'O'),\n",
              " ('\"', 'O'),\n",
              " ('Bush', 'B-per'),\n",
              " ('Number', 'O'),\n",
              " ('One', 'O'),\n",
              " ('Terrorist', 'O'),\n",
              " ('\"', 'O'),\n",
              " ('and', 'O'),\n",
              " ('\"', 'O'),\n",
              " ('Stop', 'O'),\n",
              " ('the', 'O'),\n",
              " ('Bombings', 'O'),\n",
              " ('.', 'O'),\n",
              " ('\"', 'O'),\n",
              " ('Families', 'O'),\n",
              " ('of', 'O'),\n",
              " ('soldiers', 'O'),\n",
              " ('killed', 'O'),\n",
              " ('in', 'O'),\n",
              " ('the', 'O'),\n",
              " ('conflict', 'O'),\n",
              " ('joined', 'O'),\n",
              " ('the', 'O'),\n",
              " ('protesters', 'O'),\n",
              " ('who', 'O'),\n",
              " ('carried', 'O'),\n",
              " ('banners', 'O'),\n",
              " ('with', 'O'),\n",
              " ('such', 'O'),\n",
              " ('slogans', 'O'),\n",
              " ('as', 'O'),\n",
              " ('\"', 'O'),\n",
              " ('Bush', 'B-per'),\n",
              " ('Number', 'O'),\n",
              " ('One', 'O'),\n",
              " ('Terrorist', 'O'),\n",
              " ('\"', 'O'),\n",
              " ('and', 'O'),\n",
              " ('\"', 'O'),\n",
              " ('Stop', 'O'),\n",
              " ('the', 'O'),\n",
              " ('Bombings', 'O'),\n",
              " ('.', 'O'),\n",
              " ('\"', 'O')]"
            ]
          },
          "metadata": {
            "tags": []
          },
          "execution_count": 8
        }
      ]
    },
    {
      "cell_type": "markdown",
      "metadata": {
        "id": "D0vIdncFtLC_",
        "colab_type": "text"
      },
      "source": [
        "### Getting words\n",
        "\n",
        "\n"
      ]
    },
    {
      "cell_type": "code",
      "metadata": {
        "id": "FXw8E-b4eDU0",
        "colab_type": "code",
        "colab": {
          "base_uri": "https://localhost:8080/",
          "height": 1000
        },
        "outputId": "df5f796e-6cd2-4176-bd36-4403a4b2259f"
      },
      "source": [
        "sentences = [[s[0].lower() for s in sent] for sent in getter.sentences]\n",
        "sentences[1]"
      ],
      "execution_count": 9,
      "outputs": [
        {
          "output_type": "execute_result",
          "data": {
            "text/plain": [
              "['families',\n",
              " 'of',\n",
              " 'soldiers',\n",
              " 'killed',\n",
              " 'in',\n",
              " 'the',\n",
              " 'conflict',\n",
              " 'joined',\n",
              " 'the',\n",
              " 'protesters',\n",
              " 'who',\n",
              " 'carried',\n",
              " 'banners',\n",
              " 'with',\n",
              " 'such',\n",
              " 'slogans',\n",
              " 'as',\n",
              " '\"',\n",
              " 'bush',\n",
              " 'number',\n",
              " 'one',\n",
              " 'terrorist',\n",
              " '\"',\n",
              " 'and',\n",
              " '\"',\n",
              " 'stop',\n",
              " 'the',\n",
              " 'bombings',\n",
              " '.',\n",
              " '\"',\n",
              " 'families',\n",
              " 'of',\n",
              " 'soldiers',\n",
              " 'killed',\n",
              " 'in',\n",
              " 'the',\n",
              " 'conflict',\n",
              " 'joined',\n",
              " 'the',\n",
              " 'protesters',\n",
              " 'who',\n",
              " 'carried',\n",
              " 'banners',\n",
              " 'with',\n",
              " 'such',\n",
              " 'slogans',\n",
              " 'as',\n",
              " '\"',\n",
              " 'bush',\n",
              " 'number',\n",
              " 'one',\n",
              " 'terrorist',\n",
              " '\"',\n",
              " 'and',\n",
              " '\"',\n",
              " 'stop',\n",
              " 'the',\n",
              " 'bombings',\n",
              " '.',\n",
              " '\"']"
            ]
          },
          "metadata": {
            "tags": []
          },
          "execution_count": 9
        }
      ]
    },
    {
      "cell_type": "markdown",
      "metadata": {
        "id": "LSRw4FvbtXRt",
        "colab_type": "text"
      },
      "source": [
        "### Getting tags or labels"
      ]
    },
    {
      "cell_type": "code",
      "metadata": {
        "id": "Z3jC0JOCeQGx",
        "colab_type": "code",
        "colab": {
          "base_uri": "https://localhost:8080/",
          "height": 55
        },
        "outputId": "24511cdb-c630-4032-8a32-c5b5c255926c"
      },
      "source": [
        "labels = [[s[1] for s in sent] for sent in getter.sentences]\n",
        "print(labels[1])"
      ],
      "execution_count": 10,
      "outputs": [
        {
          "output_type": "stream",
          "text": [
            "['O', 'O', 'O', 'O', 'O', 'O', 'O', 'O', 'O', 'O', 'O', 'O', 'O', 'O', 'O', 'O', 'O', 'O', 'B-per', 'O', 'O', 'O', 'O', 'O', 'O', 'O', 'O', 'O', 'O', 'O', 'O', 'O', 'O', 'O', 'O', 'O', 'O', 'O', 'O', 'O', 'O', 'O', 'O', 'O', 'O', 'O', 'O', 'O', 'B-per', 'O', 'O', 'O', 'O', 'O', 'O', 'O', 'O', 'O', 'O', 'O']\n"
          ],
          "name": "stdout"
        }
      ]
    },
    {
      "cell_type": "markdown",
      "metadata": {
        "id": "xEO3MGzmtjRl",
        "colab_type": "text"
      },
      "source": [
        "## Word embedding"
      ]
    },
    {
      "cell_type": "code",
      "metadata": {
        "id": "rueYDVufecMr",
        "colab_type": "code",
        "colab": {
          "base_uri": "https://localhost:8080/",
          "height": 35
        },
        "outputId": "506ceeea-edbc-43a8-d4e8-71e21d5b4b39"
      },
      "source": [
        "maxlen = max([len(s) for s in sentences])\n",
        "print ('Maximum sequence length:', maxlen)"
      ],
      "execution_count": 11,
      "outputs": [
        {
          "output_type": "stream",
          "text": [
            "Maximum sequence length: 140\n"
          ],
          "name": "stdout"
        }
      ]
    },
    {
      "cell_type": "code",
      "metadata": {
        "id": "ISqTy7rDelbq",
        "colab_type": "code",
        "colab": {}
      },
      "source": [
        "# Check how long sentences are so that we can pad them\n",
        "import matplotlib.pyplot as plt\n",
        "%matplotlib inline\n",
        "plt.style.use(\"ggplot\")\n"
      ],
      "execution_count": 0,
      "outputs": []
    },
    {
      "cell_type": "code",
      "metadata": {
        "id": "PR2t9BcPesTf",
        "colab_type": "code",
        "colab": {
          "base_uri": "https://localhost:8080/",
          "height": 269
        },
        "outputId": "a5c41add-316c-4b5d-a0e9-03e192b8f027"
      },
      "source": [
        "plt.hist([len(s) for s in sentences], bins=50)\n",
        "plt.show()"
      ],
      "execution_count": 14,
      "outputs": [
        {
          "output_type": "display_data",
          "data": {
            "image/png": "[encoded data removed]",
            "text/plain": [
              "<Figure size 432x288 with 1 Axes>"
            ]
          },
          "metadata": {
            "tags": []
          }
        }
      ]
    },
    {
      "cell_type": "code",
      "metadata": {
        "id": "xDuloNsle8L9",
        "colab_type": "code",
        "colab": {
          "base_uri": "https://localhost:8080/",
          "height": 35
        },
        "outputId": "6d2f2735-4832-4eea-dcb2-b9244de488d0"
      },
      "source": [
        "words = np.array([x.lower() if isinstance(x, str) else x for x in dataset[\"word\"].values])\n",
        "words = list(set(words))\n",
        "words.append('unk')\n",
        "words.append('pad')\n",
        "n_words = len(words); n_words"
      ],
      "execution_count": 15,
      "outputs": [
        {
          "output_type": "execute_result",
          "data": {
            "text/plain": [
              "27422"
            ]
          },
          "metadata": {
            "tags": []
          },
          "execution_count": 15
        }
      ]
    },
    {
      "cell_type": "code",
      "metadata": {
        "id": "iHzMdWsofDZK",
        "colab_type": "code",
        "colab": {
          "base_uri": "https://localhost:8080/",
          "height": 35
        },
        "outputId": "cba916ae-8b47-4c34-e72c-0096ed3eb238"
      },
      "source": [
        "tags = list(set(dataset[\"tag\"].values))\n",
        "n_tags = len(tags)\n",
        "n_tags"
      ],
      "execution_count": 16,
      "outputs": [
        {
          "output_type": "execute_result",
          "data": {
            "text/plain": [
              "18"
            ]
          },
          "metadata": {
            "tags": []
          },
          "execution_count": 16
        }
      ]
    },
    {
      "cell_type": "code",
      "metadata": {
        "id": "j8GeNW7afK6B",
        "colab_type": "code",
        "colab": {}
      },
      "source": [
        "word2idx = {w: i for i, w in enumerate(words)}\n",
        "tag2idx = {t: i for i, t in enumerate(tags)}"
      ],
      "execution_count": 0,
      "outputs": []
    },
    {
      "cell_type": "code",
      "metadata": {
        "id": "tal494kifQv3",
        "colab_type": "code",
        "colab": {
          "base_uri": "https://localhost:8080/",
          "height": 345
        },
        "outputId": "da8b13a1-2d9a-41a5-c145-7403b8807cfd"
      },
      "source": [
        "tag2idx"
      ],
      "execution_count": 18,
      "outputs": [
        {
          "output_type": "execute_result",
          "data": {
            "text/plain": [
              "{'B-art': 10,\n",
              " 'B-eve': 6,\n",
              " 'B-geo': 15,\n",
              " 'B-gpe': 3,\n",
              " 'B-nat': 12,\n",
              " 'B-org': 16,\n",
              " 'B-per': 8,\n",
              " 'B-tim': 4,\n",
              " 'I-art': 1,\n",
              " 'I-eve': 7,\n",
              " 'I-geo': 17,\n",
              " 'I-gpe': 11,\n",
              " 'I-nat': 0,\n",
              " 'I-org': 2,\n",
              " 'I-per': 5,\n",
              " 'I-tim': 13,\n",
              " 'O': 14,\n",
              " nan: 9}"
            ]
          },
          "metadata": {
            "tags": []
          },
          "execution_count": 18
        }
      ]
    },
    {
      "cell_type": "code",
      "metadata": {
        "id": "DnPdpBQofXkK",
        "colab_type": "code",
        "colab": {
          "base_uri": "https://localhost:8080/",
          "height": 35
        },
        "outputId": "2ebdfb29-4f85-4c24-d867-9ad796138085"
      },
      "source": [
        "word2idx['unk']"
      ],
      "execution_count": 19,
      "outputs": [
        {
          "output_type": "execute_result",
          "data": {
            "text/plain": [
              "27420"
            ]
          },
          "metadata": {
            "tags": []
          },
          "execution_count": 19
        }
      ]
    },
    {
      "cell_type": "markdown",
      "metadata": {
        "id": "j30PXUs-tu3Y",
        "colab_type": "text"
      },
      "source": [
        "## X & y (features and labels)"
      ]
    },
    {
      "cell_type": "code",
      "metadata": {
        "id": "3_aesZhGfe5W",
        "colab_type": "code",
        "colab": {
          "base_uri": "https://localhost:8080/",
          "height": 1000
        },
        "outputId": "ca8eae69-1f7a-4539-fb0d-07f2971c115f"
      },
      "source": [
        "X = [[word2idx.get(w,'27420') for w in s] for s in sentences]\n",
        "X[1]"
      ],
      "execution_count": 20,
      "outputs": [
        {
          "output_type": "execute_result",
          "data": {
            "text/plain": [
              "[2293,\n",
              " 14838,\n",
              " 1886,\n",
              " 11356,\n",
              " 10573,\n",
              " 3924,\n",
              " 26076,\n",
              " 7523,\n",
              " 3924,\n",
              " 13634,\n",
              " 7804,\n",
              " 5197,\n",
              " 21196,\n",
              " 22147,\n",
              " 19922,\n",
              " 27082,\n",
              " 10028,\n",
              " 4769,\n",
              " 5616,\n",
              " 15541,\n",
              " 2850,\n",
              " 22272,\n",
              " 4769,\n",
              " 24814,\n",
              " 4769,\n",
              " 3789,\n",
              " 3924,\n",
              " 11187,\n",
              " 18198,\n",
              " 4769,\n",
              " 2293,\n",
              " 14838,\n",
              " 1886,\n",
              " 11356,\n",
              " 10573,\n",
              " 3924,\n",
              " 26076,\n",
              " 7523,\n",
              " 3924,\n",
              " 13634,\n",
              " 7804,\n",
              " 5197,\n",
              " 21196,\n",
              " 22147,\n",
              " 19922,\n",
              " 27082,\n",
              " 10028,\n",
              " 4769,\n",
              " 5616,\n",
              " 15541,\n",
              " 2850,\n",
              " 22272,\n",
              " 4769,\n",
              " 24814,\n",
              " 4769,\n",
              " 3789,\n",
              " 3924,\n",
              " 11187,\n",
              " 18198,\n",
              " 4769]"
            ]
          },
          "metadata": {
            "tags": []
          },
          "execution_count": 20
        }
      ]
    },
    {
      "cell_type": "code",
      "metadata": {
        "id": "tSQdOOgHfmCH",
        "colab_type": "code",
        "colab": {
          "base_uri": "https://localhost:8080/",
          "height": 1000
        },
        "outputId": "107fb530-5344-4678-c94b-53d2909a0fb5"
      },
      "source": [
        "y = [[tag2idx.get(l) for l in lab] for lab in labels]\n",
        "y[1]"
      ],
      "execution_count": 21,
      "outputs": [
        {
          "output_type": "execute_result",
          "data": {
            "text/plain": [
              "[14,\n",
              " 14,\n",
              " 14,\n",
              " 14,\n",
              " 14,\n",
              " 14,\n",
              " 14,\n",
              " 14,\n",
              " 14,\n",
              " 14,\n",
              " 14,\n",
              " 14,\n",
              " 14,\n",
              " 14,\n",
              " 14,\n",
              " 14,\n",
              " 14,\n",
              " 14,\n",
              " 8,\n",
              " 14,\n",
              " 14,\n",
              " 14,\n",
              " 14,\n",
              " 14,\n",
              " 14,\n",
              " 14,\n",
              " 14,\n",
              " 14,\n",
              " 14,\n",
              " 14,\n",
              " 14,\n",
              " 14,\n",
              " 14,\n",
              " 14,\n",
              " 14,\n",
              " 14,\n",
              " 14,\n",
              " 14,\n",
              " 14,\n",
              " 14,\n",
              " 14,\n",
              " 14,\n",
              " 14,\n",
              " 14,\n",
              " 14,\n",
              " 14,\n",
              " 14,\n",
              " 14,\n",
              " 8,\n",
              " 14,\n",
              " 14,\n",
              " 14,\n",
              " 14,\n",
              " 14,\n",
              " 14,\n",
              " 14,\n",
              " 14,\n",
              " 14,\n",
              " 14,\n",
              " 14]"
            ]
          },
          "metadata": {
            "tags": []
          },
          "execution_count": 21
        }
      ]
    },
    {
      "cell_type": "code",
      "metadata": {
        "id": "NSgofe3WfuK_",
        "colab_type": "code",
        "colab": {}
      },
      "source": [
        "X = pad_sequences(maxlen=140, sequences=X, padding=\"post\", value=n_words-1)"
      ],
      "execution_count": 0,
      "outputs": []
    },
    {
      "cell_type": "code",
      "metadata": {
        "id": "tzIPOce6f3Im",
        "colab_type": "code",
        "colab": {
          "base_uri": "https://localhost:8080/",
          "height": 35
        },
        "outputId": "2b7e1a1e-165e-4e7a-9171-28ee6c0ce06e"
      },
      "source": [
        "word2idx['pad'], n_words-1"
      ],
      "execution_count": 23,
      "outputs": [
        {
          "output_type": "execute_result",
          "data": {
            "text/plain": [
              "(27421, 27421)"
            ]
          },
          "metadata": {
            "tags": []
          },
          "execution_count": 23
        }
      ]
    },
    {
      "cell_type": "code",
      "metadata": {
        "id": "w23rXPTrf9GU",
        "colab_type": "code",
        "colab": {}
      },
      "source": [
        "y = pad_sequences(maxlen=140, sequences=y, padding=\"post\", value=tag2idx[\"O\"])"
      ],
      "execution_count": 0,
      "outputs": []
    },
    {
      "cell_type": "code",
      "metadata": {
        "id": "R2zovuFRgEG-",
        "colab_type": "code",
        "colab": {
          "base_uri": "https://localhost:8080/",
          "height": 181
        },
        "outputId": "5dda3cac-7557-4fd6-f879-de8a309d758c"
      },
      "source": [
        "y[1]"
      ],
      "execution_count": 25,
      "outputs": [
        {
          "output_type": "execute_result",
          "data": {
            "text/plain": [
              "array([14, 14, 14, 14, 14, 14, 14, 14, 14, 14, 14, 14, 14, 14, 14, 14, 14,\n",
              "       14,  8, 14, 14, 14, 14, 14, 14, 14, 14, 14, 14, 14, 14, 14, 14, 14,\n",
              "       14, 14, 14, 14, 14, 14, 14, 14, 14, 14, 14, 14, 14, 14,  8, 14, 14,\n",
              "       14, 14, 14, 14, 14, 14, 14, 14, 14, 14, 14, 14, 14, 14, 14, 14, 14,\n",
              "       14, 14, 14, 14, 14, 14, 14, 14, 14, 14, 14, 14, 14, 14, 14, 14, 14,\n",
              "       14, 14, 14, 14, 14, 14, 14, 14, 14, 14, 14, 14, 14, 14, 14, 14, 14,\n",
              "       14, 14, 14, 14, 14, 14, 14, 14, 14, 14, 14, 14, 14, 14, 14, 14, 14,\n",
              "       14, 14, 14, 14, 14, 14, 14, 14, 14, 14, 14, 14, 14, 14, 14, 14, 14,\n",
              "       14, 14, 14, 14], dtype=int32)"
            ]
          },
          "metadata": {
            "tags": []
          },
          "execution_count": 25
        }
      ]
    },
    {
      "cell_type": "code",
      "metadata": {
        "id": "9aaiqc_ZgI0p",
        "colab_type": "code",
        "colab": {
          "base_uri": "https://localhost:8080/",
          "height": 308
        },
        "outputId": "3a4f5836-3b0f-452d-8ff6-54264120acb9"
      },
      "source": [
        "X[1]"
      ],
      "execution_count": 26,
      "outputs": [
        {
          "output_type": "execute_result",
          "data": {
            "text/plain": [
              "array([ 2293, 14838,  1886, 11356, 10573,  3924, 26076,  7523,  3924,\n",
              "       13634,  7804,  5197, 21196, 22147, 19922, 27082, 10028,  4769,\n",
              "        5616, 15541,  2850, 22272,  4769, 24814,  4769,  3789,  3924,\n",
              "       11187, 18198,  4769,  2293, 14838,  1886, 11356, 10573,  3924,\n",
              "       26076,  7523,  3924, 13634,  7804,  5197, 21196, 22147, 19922,\n",
              "       27082, 10028,  4769,  5616, 15541,  2850, 22272,  4769, 24814,\n",
              "        4769,  3789,  3924, 11187, 18198,  4769, 27421, 27421, 27421,\n",
              "       27421, 27421, 27421, 27421, 27421, 27421, 27421, 27421, 27421,\n",
              "       27421, 27421, 27421, 27421, 27421, 27421, 27421, 27421, 27421,\n",
              "       27421, 27421, 27421, 27421, 27421, 27421, 27421, 27421, 27421,\n",
              "       27421, 27421, 27421, 27421, 27421, 27421, 27421, 27421, 27421,\n",
              "       27421, 27421, 27421, 27421, 27421, 27421, 27421, 27421, 27421,\n",
              "       27421, 27421, 27421, 27421, 27421, 27421, 27421, 27421, 27421,\n",
              "       27421, 27421, 27421, 27421, 27421, 27421, 27421, 27421, 27421,\n",
              "       27421, 27421, 27421, 27421, 27421, 27421, 27421, 27421, 27421,\n",
              "       27421, 27421, 27421, 27421, 27421], dtype=int32)"
            ]
          },
          "metadata": {
            "tags": []
          },
          "execution_count": 26
        }
      ]
    },
    {
      "cell_type": "markdown",
      "metadata": {
        "id": "CEtSkJfduEtk",
        "colab_type": "text"
      },
      "source": [
        "## Data preperation for training"
      ]
    },
    {
      "cell_type": "code",
      "metadata": {
        "id": "VUL3cIl_gSo5",
        "colab_type": "code",
        "colab": {}
      },
      "source": [
        "from sklearn.model_selection import train_test_split\n",
        "X_train, X_test, y_train, y_test = train_test_split(X, y, test_size=0.20, random_state=0)"
      ],
      "execution_count": 0,
      "outputs": []
    },
    {
      "cell_type": "code",
      "metadata": {
        "id": "Gb-qtxDKgUnO",
        "colab_type": "code",
        "colab": {
          "base_uri": "https://localhost:8080/",
          "height": 35
        },
        "outputId": "acc9ff97-3ce1-4ccd-d346-d49228111693"
      },
      "source": [
        "y_train = keras.utils.to_categorical(y_train)\n",
        "print(X_train.shape, y_train.shape)"
      ],
      "execution_count": 28,
      "outputs": [
        {
          "output_type": "stream",
          "text": [
            "(28141, 140) (28141, 140, 18)\n"
          ],
          "name": "stdout"
        }
      ]
    },
    {
      "cell_type": "markdown",
      "metadata": {
        "id": "kNWGob_GuLp3",
        "colab_type": "text"
      },
      "source": [
        "## Bidirectional LSTM model preperation and training"
      ]
    },
    {
      "cell_type": "code",
      "metadata": {
        "id": "uj5Qw_rngcqt",
        "colab_type": "code",
        "colab": {
          "base_uri": "https://localhost:8080/",
          "height": 546
        },
        "outputId": "61b5390c-f911-40c1-c675-00fb83e6cd9a"
      },
      "source": [
        "model = Sequential()\n",
        "\n",
        "model.add(Embedding(n_words, 50))\n",
        "model.add(Bidirectional(LSTM(140, return_sequences=True)))\n",
        "model.add(Bidirectional(LSTM(140, return_sequences=True)))\n",
        "model.add(TimeDistributed(Dense(n_tags, activation=\"softmax\")))\n",
        "model.compile(optimizer=\"adam\", loss=\"categorical_crossentropy\", metrics=[\"accuracy\"])\n",
        "model.fit(X_train, y_train, batch_size=150, epochs=5, verbose=1, validation_split=0.2)"
      ],
      "execution_count": 29,
      "outputs": [
        {
          "output_type": "stream",
          "text": [
            "WARNING: Logging before flag parsing goes to stderr.\n",
            "W0714 12:43:20.215395 139825491883904 deprecation_wrapper.py:119] From /usr/local/lib/python3.6/dist-packages/keras/backend/tensorflow_backend.py:74: The name tf.get_default_graph is deprecated. Please use tf.compat.v1.get_default_graph instead.\n",
            "\n",
            "W0714 12:43:20.263652 139825491883904 deprecation_wrapper.py:119] From /usr/local/lib/python3.6/dist-packages/keras/backend/tensorflow_backend.py:517: The name tf.placeholder is deprecated. Please use tf.compat.v1.placeholder instead.\n",
            "\n",
            "W0714 12:43:20.270842 139825491883904 deprecation_wrapper.py:119] From /usr/local/lib/python3.6/dist-packages/keras/backend/tensorflow_backend.py:4138: The name tf.random_uniform is deprecated. Please use tf.random.uniform instead.\n",
            "\n",
            "W0714 12:43:21.335569 139825491883904 deprecation_wrapper.py:119] From /usr/local/lib/python3.6/dist-packages/keras/optimizers.py:790: The name tf.train.Optimizer is deprecated. Please use tf.compat.v1.train.Optimizer instead.\n",
            "\n",
            "W0714 12:43:21.366312 139825491883904 deprecation_wrapper.py:119] From /usr/local/lib/python3.6/dist-packages/keras/backend/tensorflow_backend.py:3295: The name tf.log is deprecated. Please use tf.math.log instead.\n",
            "\n",
            "W0714 12:43:21.868022 139825491883904 deprecation.py:323] From /usr/local/lib/python3.6/dist-packages/tensorflow/python/ops/math_grad.py:1250: add_dispatch_support.<locals>.wrapper (from tensorflow.python.ops.array_ops) is deprecated and will be removed in a future version.\n",
            "Instructions for updating:\n",
            "Use tf.where in 2.0, which has the same broadcast rule as np.where\n",
            "W0714 12:43:24.985134 139825491883904 deprecation_wrapper.py:119] From /usr/local/lib/python3.6/dist-packages/keras/backend/tensorflow_backend.py:986: The name tf.assign_add is deprecated. Please use tf.compat.v1.assign_add instead.\n",
            "\n"
          ],
          "name": "stderr"
        },
        {
          "output_type": "stream",
          "text": [
            "Train on 22512 samples, validate on 5629 samples\n",
            "Epoch 1/5\n",
            "22512/22512 [==============================] - 144s 6ms/step - loss: 0.2765 - acc: 0.9609 - val_loss: 0.1484 - val_acc: 0.9674\n",
            "Epoch 2/5\n",
            "22512/22512 [==============================] - 138s 6ms/step - loss: 0.1099 - acc: 0.9708 - val_loss: 0.0820 - val_acc: 0.9755\n",
            "Epoch 3/5\n",
            "22512/22512 [==============================] - 139s 6ms/step - loss: 0.0668 - acc: 0.9795 - val_loss: 0.0650 - val_acc: 0.9815\n",
            "Epoch 4/5\n",
            "22512/22512 [==============================] - 137s 6ms/step - loss: 0.0517 - acc: 0.9849 - val_loss: 0.0588 - val_acc: 0.9838\n",
            "Epoch 5/5\n",
            "22512/22512 [==============================] - 139s 6ms/step - loss: 0.0430 - acc: 0.9878 - val_loss: 0.0486 - val_acc: 0.9870\n"
          ],
          "name": "stdout"
        },
        {
          "output_type": "execute_result",
          "data": {
            "text/plain": [
              "<keras.callbacks.History at 0x7f2b42099400>"
            ]
          },
          "metadata": {
            "tags": []
          },
          "execution_count": 29
        }
      ]
    },
    {
      "cell_type": "markdown",
      "metadata": {
        "id": "IJQBgkUEuXfV",
        "colab_type": "text"
      },
      "source": [
        "## Testing"
      ]
    },
    {
      "cell_type": "code",
      "metadata": {
        "id": "RJhTbYNqkNmL",
        "colab_type": "code",
        "colab": {}
      },
      "source": [
        "pred = model.predict(X_test)   \n"
      ],
      "execution_count": 0,
      "outputs": []
    },
    {
      "cell_type": "markdown",
      "metadata": {
        "id": "La4sXSeeuamQ",
        "colab_type": "text"
      },
      "source": [
        "### Visualizing test results"
      ]
    },
    {
      "cell_type": "code",
      "metadata": {
        "id": "xPkwckzdm3OI",
        "colab_type": "code",
        "colab": {
          "base_uri": "https://localhost:8080/",
          "height": 1000
        },
        "outputId": "c5d6a638-861e-43f8-93d9-70307afa9733"
      },
      "source": [
        "i = 5\n",
        "p = model.predict(np.array([X_test[i]]))\n",
        "p = np.argmax(p, axis=-1)\n",
        "print(\"{:14} ({:5}): {}\".format(\"Word\", \"True\", \"Pred\"))\n",
        "for w,pred in zip(X_test[i],p[0]):\n",
        "    print(\"{:14}: {}\".format(words[w],tags[pred]))"
      ],
      "execution_count": 39,
      "outputs": [
        {
          "output_type": "stream",
          "text": [
            "Word           (True ): Pred\n",
            "the           : O\n",
            "u.s.          : B-geo\n",
            "official      : O\n",
            "stressed      : O\n",
            "the           : O\n",
            "only          : O\n",
            "way           : O\n",
            "to            : O\n",
            "successfully  : O\n",
            "counter       : O\n",
            "the           : O\n",
            "threat        : O\n",
            "is            : O\n",
            "to            : O\n",
            "learn         : O\n",
            "to            : O\n",
            "work          : O\n",
            "effectively   : O\n",
            "together      : O\n",
            ".             : O\n",
            "the           : O\n",
            "u.s.          : B-geo\n",
            "official      : O\n",
            "stressed      : O\n",
            "the           : O\n",
            "only          : O\n",
            "way           : O\n",
            "to            : O\n",
            "successfully  : O\n",
            "counter       : O\n",
            "the           : O\n",
            "threat        : O\n",
            "is            : O\n",
            "to            : O\n",
            "learn         : O\n",
            "to            : O\n",
            "work          : O\n",
            "effectively   : O\n",
            "together      : O\n",
            ".             : O\n",
            "pad           : O\n",
            "pad           : O\n",
            "pad           : O\n",
            "pad           : O\n",
            "pad           : O\n",
            "pad           : O\n",
            "pad           : O\n",
            "pad           : O\n",
            "pad           : O\n",
            "pad           : O\n",
            "pad           : O\n",
            "pad           : O\n",
            "pad           : O\n",
            "pad           : O\n",
            "pad           : O\n",
            "pad           : O\n",
            "pad           : O\n",
            "pad           : O\n",
            "pad           : O\n",
            "pad           : O\n",
            "pad           : O\n",
            "pad           : O\n",
            "pad           : O\n",
            "pad           : O\n",
            "pad           : O\n",
            "pad           : O\n",
            "pad           : O\n",
            "pad           : O\n",
            "pad           : O\n",
            "pad           : O\n",
            "pad           : O\n",
            "pad           : O\n",
            "pad           : O\n",
            "pad           : O\n",
            "pad           : O\n",
            "pad           : O\n",
            "pad           : O\n",
            "pad           : O\n",
            "pad           : O\n",
            "pad           : O\n",
            "pad           : O\n",
            "pad           : O\n",
            "pad           : O\n",
            "pad           : O\n",
            "pad           : O\n",
            "pad           : O\n",
            "pad           : O\n",
            "pad           : O\n",
            "pad           : O\n",
            "pad           : O\n",
            "pad           : O\n",
            "pad           : O\n",
            "pad           : O\n",
            "pad           : O\n",
            "pad           : O\n",
            "pad           : O\n",
            "pad           : O\n",
            "pad           : O\n",
            "pad           : O\n",
            "pad           : O\n",
            "pad           : O\n",
            "pad           : O\n",
            "pad           : O\n",
            "pad           : O\n",
            "pad           : O\n",
            "pad           : O\n",
            "pad           : O\n",
            "pad           : O\n",
            "pad           : O\n",
            "pad           : O\n",
            "pad           : O\n",
            "pad           : O\n",
            "pad           : O\n",
            "pad           : O\n",
            "pad           : O\n",
            "pad           : O\n",
            "pad           : O\n",
            "pad           : O\n",
            "pad           : O\n",
            "pad           : O\n",
            "pad           : O\n",
            "pad           : O\n",
            "pad           : O\n",
            "pad           : O\n",
            "pad           : O\n",
            "pad           : O\n",
            "pad           : O\n",
            "pad           : O\n",
            "pad           : O\n",
            "pad           : O\n",
            "pad           : O\n",
            "pad           : O\n",
            "pad           : O\n",
            "pad           : O\n",
            "pad           : O\n",
            "pad           : O\n",
            "pad           : O\n",
            "pad           : O\n",
            "pad           : O\n",
            "pad           : O\n"
          ],
          "name": "stdout"
        }
      ]
    },
    {
      "cell_type": "code",
      "metadata": {
        "id": "l5MPcYljgkxB",
        "colab_type": "code",
        "colab": {
          "base_uri": "https://localhost:8080/",
          "height": 290
        },
        "outputId": "4098f2a1-8d1b-4d9a-820e-44fc22aef8fe"
      },
      "source": [
        "model.summary()"
      ],
      "execution_count": 40,
      "outputs": [
        {
          "output_type": "stream",
          "text": [
            "_________________________________________________________________\n",
            "Layer (type)                 Output Shape              Param #   \n",
            "=================================================================\n",
            "embedding_1 (Embedding)      (None, None, 50)          1371100   \n",
            "_________________________________________________________________\n",
            "bidirectional_1 (Bidirection (None, None, 280)         213920    \n",
            "_________________________________________________________________\n",
            "bidirectional_2 (Bidirection (None, None, 280)         471520    \n",
            "_________________________________________________________________\n",
            "time_distributed_1 (TimeDist (None, None, 18)          5058      \n",
            "=================================================================\n",
            "Total params: 2,061,598\n",
            "Trainable params: 2,061,598\n",
            "Non-trainable params: 0\n",
            "_________________________________________________________________\n"
          ],
          "name": "stdout"
        }
      ]
    },
    {
      "cell_type": "code",
      "metadata": {
        "id": "PG6C3r-FlTj0",
        "colab_type": "code",
        "colab": {}
      },
      "source": [
        "# input = Input(shape=(140,))\n",
        "# model = Embedding(n_words, 50)(input)\n",
        "# model = Bidirectional(LSTM(units=140, return_sequences=True))(model)\n",
        "# model = Bidirectional(LSTM(units=140, return_sequences=True))(model)\n",
        "# # reshape = keras.layers.Reshape((-1, 140, 1))(model)\n",
        "\n",
        "# out = TimeDistributed(Dense(18, activation=\"softmax\"))(model)  # softmax output layer\n",
        "# model = Model(input, out)\n",
        "\n",
        "# model.compile(optimizer=\"adam\", loss=\"categorical_crossentropy\", metrics=[\"accuracy\"])\n",
        "\n",
        "# model.fit(X_train, y_train, batch_size=150, epochs=1, verbose=1)"
      ],
      "execution_count": 0,
      "outputs": []
    }
  ]
}